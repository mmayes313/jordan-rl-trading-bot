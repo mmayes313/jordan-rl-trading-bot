{
 "cells": [
  {
   "cell_type": "markdown",
   "id": "bd838dc0",
   "metadata": {},
   "source": [
    "# Jordan RL Trading Bot - Colab Training Notebook\n",
    "\n",
    "This notebook sets up and trains the PPO model on Google Colab with GPU support."
   ]
  },
  {
   "cell_type": "code",
   "execution_count": null,
   "id": "57e4c319",
   "metadata": {},
   "outputs": [],
   "source": [
    "!pip install -r requirements.txt"
   ]
  },
  {
   "cell_type": "code",
   "execution_count": null,
   "id": "cde2a231",
   "metadata": {},
   "outputs": [],
   "source": [
    "from google.colab import drive\n",
    "drive.mount('/content/drive')"
   ]
  },
  {
   "cell_type": "code",
   "execution_count": null,
   "id": "cc4a621f",
   "metadata": {},
   "outputs": [],
   "source": [
    "!git clone https://github.com/your-username/jordan_rl_trading_bot /content/jordan_rl_trading_bot"
   ]
  },
  {
   "cell_type": "code",
   "execution_count": null,
   "id": "4f40c5ea",
   "metadata": {},
   "outputs": [],
   "source": [
    "%cd /content/jordan_rl_trading_bot"
   ]
  },
  {
   "cell_type": "code",
   "execution_count": null,
   "id": "bdede263",
   "metadata": {},
   "outputs": [],
   "source": [
    "import sys\n",
    "sys.path.append('/content/jordan_rl_trading_bot/src')"
   ]
  },
  {
   "cell_type": "code",
   "execution_count": null,
   "id": "1f9ac4a2",
   "metadata": {},
   "outputs": [],
   "source": [
    "from src.models.ppo_model import train_model\n",
    "from src.environment.trading_environment import TradingEnv\n",
    "from config.trading_config import *"
   ]
  },
  {
   "cell_type": "code",
   "execution_count": null,
   "id": "9db41868",
   "metadata": {},
   "outputs": [],
   "source": [
    "# Load data from Drive\n",
    "import pandas as pd\n",
    "# Example: Load CSV data\n",
    "# data = pd.read_csv('/content/drive/MyDrive/data/raw/EURUSD_1.csv')\n",
    "env = TradingEnv(config={'data_path': '/content/drive/MyDrive/data/raw/'})"
   ]
  },
  {
   "cell_type": "code",
   "execution_count": null,
   "id": "a6112fef",
   "metadata": {},
   "outputs": [],
   "source": [
    "device = 'cuda'\n",
    "model = train_model(env, total_timesteps=10000000, device=device)  # ~1 year simulation"
   ]
  },
  {
   "cell_type": "code",
   "execution_count": null,
   "id": "9c0a185d",
   "metadata": {},
   "outputs": [],
   "source": [
    "model.save('/content/drive/MyDrive/data/models/colab_best.zip')"
   ]
  }
 ],
 "metadata": {
  "language_info": {
   "name": "python"
  }
 },
 "nbformat": 4,
 "nbformat_minor": 5
}
