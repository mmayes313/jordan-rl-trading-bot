{
 "cells": [
  {
   "cell_type": "code",
   "execution_count": null,
   "id": "04a3d363",
   "metadata": {},
   "outputs": [],
   "source": [
    "# Run in Colab cell\n",
    "!pip install -r requirements.txt\n",
    "from google.colab import drive\n",
    "drive.mount('/content/drive')\n",
    "!git clone https://github.com/mmayes313/jordan-rl-trading-bot.git /content/bot\n",
    "import torch\n",
    "device = 'cuda' if torch.cuda.is_available() else 'cpu'\n",
    "print(f\"Device: {device}\")"
   ]
  },
  {
   "cell_type": "code",
   "execution_count": null,
   "id": "f77567c0",
   "metadata": {},
   "outputs": [],
   "source": [
    "%cd /content/bot"
   ]
  },
  {
   "cell_type": "code",
   "execution_count": null,
   "id": "41ee688a",
   "metadata": {},
   "outputs": [],
   "source": [
    "from src.models.ppo_model import create_ppo_model\n",
    "model = create_ppo_model('/content/drive/MyDrive/eurusd_1y.csv')\n",
    "model.learn(52560000, device='cuda')  # 1y sim"
   ]
  },
  {
   "cell_type": "code",
   "execution_count": null,
   "id": "e69641af",
   "metadata": {},
   "outputs": [],
   "source": [
    "model.save('/content/drive/MyDrive/ppo_trained.zip')"
   ]
  }
 ],
 "metadata": {
  "language_info": {
   "name": "python"
  }
 },
 "nbformat": 4,
 "nbformat_minor": 5
}
