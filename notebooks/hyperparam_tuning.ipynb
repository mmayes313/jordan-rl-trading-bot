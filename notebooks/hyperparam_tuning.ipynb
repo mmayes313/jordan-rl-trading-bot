{
 "cells": [
  {
   "cell_type": "code",
   "execution_count": null,
   "id": "9e755804",
   "metadata": {},
   "outputs": [],
   "source": [
    "# Cell for hyperparameter tuning\n",
    "import sys\n",
    "sys.path.append('..')\n",
    "from scripts.tune_hyperparams import run_optimization\n",
    "\n",
    "# Run 50 trials of hyperparameter optimization\n",
    "data_path = '../data/raw/eurusd_1y.csv'\n",
    "best_params = run_optimization(data_path, 50)\n",
    "print(f\"Best hyperparameters found: {best_params}\")"
   ]
  },
  {
   "cell_type": "markdown",
   "id": "90e5c044",
   "metadata": {},
   "source": [
    "## 3. Define Hyperparameter Search Spaces\n",
    "\n",
    "Display the search spaces defined in hyperparam_config.py."
   ]
  },
  {
   "cell_type": "code",
   "execution_count": null,
   "id": "9fc71d6d",
   "metadata": {},
   "outputs": [],
   "source": [
    "print(\"Hyperparameter Search Spaces:\")\n",
    "for param, config in HYPERPARAM_SEARCH_SPACE.items():\n",
    "    print(f\"{param}: {config}\")\n",
    "\n",
    "print(\"\\nDefault PPO Parameters:\")\n",
    "for param, value in DEFAULT_PPO_PARAMS.items():\n",
    "    print(f\"{param}: {value}\")\n",
    "\n",
    "print(\"\\nExample suggested params:\")\n",
    "# Mock trial for demonstration\n",
    "class MockTrial:\n",
    "    def suggest_float(self, name, low, high, log=False):\n",
    "        return (low + high) / 2\n",
    "    def suggest_int(self, name, low, high):\n",
    "        return (low + high) // 2\n",
    "    def suggest_categorical(self, name, choices):\n",
    "        return choices[len(choices)//2]\n",
    "\n",
    "mock_trial = MockTrial()\n",
    "example_params = suggest_hyperparams(mock_trial)\n",
    "for param, value in example_params.items():\n",
    "    print(f\"{param}: {value}\")"
   ]
  },
  {
   "cell_type": "code",
   "execution_count": null,
   "id": "b13797c9",
   "metadata": {},
   "outputs": [],
   "source": [
    "# Load historical data from Drive\n",
    "try:\n",
    "    data = load_historical_data('/content/drive/MyDrive/data/raw/eurusd_1y.csv')\n",
    "    print(f\"Loaded {len(data)} data points from Drive\")\n",
    "except Exception as e:\n",
    "    print(f\"Could not load data from Drive: {e}\")\n",
    "    data = None\n",
    "\n",
    "env = HistoricalTradingEnv(data, asset='EURUSD')"
   ]
  },
  {
   "cell_type": "markdown",
   "id": "dc0e2cbf",
   "metadata": {},
   "source": [
    "## 4. Set Up Optimization Function\n",
    "\n",
    "The objective function is defined in hyperparam_optimizer.py. It trains the PPO model with suggested hyperparameters and returns the average reward."
   ]
  },
  {
   "cell_type": "code",
   "execution_count": null,
   "id": "97bde037",
   "metadata": {},
   "outputs": [],
   "source": [
    "# The objective function is imported from src.models.hyperparam_optimizer\n",
    "# It suggests hyperparameters, trains PPO, and returns average reward\n",
    "print(\"Objective function ready for optimization.\")"
   ]
  },
  {
   "cell_type": "markdown",
   "id": "872e8218",
   "metadata": {},
   "source": [
    "## 5. Run Hyperparameter Tuning\n",
    "\n",
    "Execute the optimization process using Optuna."
   ]
  },
  {
   "cell_type": "code",
   "execution_count": null,
   "id": "29729c44",
   "metadata": {},
   "outputs": [],
   "source": [
    "# Run hyperparameter optimization\n",
    "n_trials = 50  # Colab GPU can handle 200+ trials\n",
    "best_params, study = run_optimization(env, n_trials=n_trials, study_name='ppo_trading_bot_colab')\n",
    "\n",
    "print(\"Optimization complete!\")\n",
    "print(\"Best parameters:\", best_params)"
   ]
  },
  {
   "cell_type": "code",
   "execution_count": null,
   "id": "86eeb991",
   "metadata": {},
   "outputs": [],
   "source": [
    "# Visualize optimization results\n",
    "import optuna.visualization as vis\n",
    "\n",
    "# Parameter importance\n",
    "fig = vis.plot_param_importances(study)\n",
    "fig.show()\n",
    "\n",
    "# Optimization history\n",
    "fig2 = vis.plot_optimization_history(study)\n",
    "fig2.show()"
   ]
  },
  {
   "cell_type": "code",
   "execution_count": null,
   "id": "c77f20b0",
   "metadata": {},
   "outputs": [],
   "source": [
    "# Save best parameters to Drive\n",
    "import json\n",
    "\n",
    "with open('/content/drive/MyDrive/best_hyperparams.json', 'w') as f:\n",
    "    json.dump(best_params, f, indent=4)\n",
    "\n",
    "print(\"Best hyperparameters saved to Drive!\")"
   ]
  },
  {
   "cell_type": "markdown",
   "id": "6b39fcff",
   "metadata": {},
   "source": [
    "## 6. Integrate Tuned Parameters into Model\n",
    "\n",
    "Use the best hyperparameters for training the final model."
   ]
  },
  {
   "cell_type": "code",
   "execution_count": null,
   "id": "b39f40bd",
   "metadata": {},
   "outputs": [],
   "source": [
    "# Create PPO model with best parameters\n",
    "model = PPO('MlpPolicy', env, **best_params, verbose=1)\n",
    "\n",
    "# Train the model with full timesteps\n",
    "from src.utils.hyperparam_config import FULL_TRAIN_TIMESTEPS\n",
    "model.learn(total_timesteps=FULL_TRAIN_TIMESTEPS)\n",
    "\n",
    "# Save the tuned model to Drive\n",
    "model.save('/content/drive/MyDrive/data/models/tuned_ppo_model.zip')\n",
    "print(\"Tuned model saved to Drive!\")"
   ]
  },
  {
   "cell_type": "markdown",
   "id": "8279bfd9",
   "metadata": {},
   "source": [
    "## GPU Optimization Tip\n",
    "\n",
    "Optuna automatically uses CUDA if available. For best results with 1-year simulation data:\n",
    "\n",
    "- Set `n_trials = 200` for comprehensive optimization\n",
    "- Use Colab Pro GPU runtime (~2-3 hours)\n",
    "- Monitor GPU usage in Colab's runtime info\n",
    "- Results will be saved to your Google Drive"
   ]
  },
  {
   "cell_type": "markdown",
   "id": "0f6263c2",
   "metadata": {},
   "source": [
    "## 7. Validate Tuning Results\n",
    "\n",
    "Run tests to ensure the tuned model performs well."
   ]
  },
  {
   "cell_type": "code",
   "execution_count": null,
   "id": "8df50a76",
   "metadata": {},
   "outputs": [],
   "source": [
    "# Run validation tests\n",
    "import subprocess\n",
    "result = subprocess.run(['python', '-m', 'pytest', 'tests/test_hyperparam_optimizer.py', '-v'], capture_output=True, text=True)\n",
    "print(\"Test Output:\")\n",
    "print(result.stdout)\n",
    "if result.stderr:\n",
    "    print(\"Errors:\")\n",
    "    print(result.stderr)"
   ]
  }
 ],
 "metadata": {
  "language_info": {
   "name": "python"
  }
 },
 "nbformat": 4,
 "nbformat_minor": 5
}
