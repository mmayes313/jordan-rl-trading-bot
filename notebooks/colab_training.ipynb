{
 "cells": [
  {
   "cell_type": "markdown",
   "id": "d2543f8f",
   "metadata": {},
   "source": [
    "# 🚀 Jordan RL Trading Bot - Google Colab GPU Training\n",
    "\n",
    "**Free GPU Power for 1-Year Trading Simulations!**\n",
    "\n",
    "This notebook clones your GitHub repo, mounts Google Drive, installs dependencies, and runs hyperparameter optimization + training with GPU acceleration.\n",
    "\n",
    "## 📋 Prerequisites\n",
    "- Upload your `jordan_data_backup.zip` to Google Drive\n",
    "- Your GitHub repo: https://github.com/mmayes313/jordan-rl-trading-bot"
   ]
  },
  {
   "cell_type": "markdown",
   "id": "55a5e9da",
   "metadata": {},
   "source": [
    "## 1️⃣ Mount Google Drive & Clone Repository"
   ]
  },
  {
   "cell_type": "code",
   "execution_count": null,
   "id": "9be9f0ab",
   "metadata": {},
   "outputs": [],
   "source": [
    "# Mount Google Drive\n",
    "from google.colab import drive\n",
    "drive.mount('/content/drive')\n",
    "\n",
    "# Clone your repository\n",
    "!git clone https://github.com/mmayes313/jordan-rl-trading-bot.git\n",
    "%cd jordan-rl-trading-bot\n",
    "\n",
    "# Extract data from Drive (adjust path if needed)\n",
    "!unzip -o /content/drive/MyDrive/jordan_data_backup.zip -d .\n",
    "\n",
    "print(\"✅ Repository cloned and data extracted!\")"
   ]
  },
  {
   "cell_type": "markdown",
   "id": "6212dadd",
   "metadata": {},
   "source": [
    "## 2️⃣ Install Dependencies & Setup"
   ]
  },
  {
   "cell_type": "code",
   "execution_count": null,
   "id": "71e03fd0",
   "metadata": {},
   "outputs": [],
   "source": [
    "# Install Python dependencies\n",
    "!pip install -r requirements.txt\n",
    "\n",
    "# Install TA-Lib (required for technical indicators)\n",
    "!wget http://prdownloads.sourceforge.net/ta-lib/ta-lib-0.4.0-src.tar.gz\n",
    "!tar -xzf ta-lib-0.4.0-src.tar.gz\n",
    "%cd ta-lib\n",
    "!./configure --prefix=/usr\n",
    "!make\n",
    "!make install\n",
    "%cd ..\n",
    "!pip install TA-Lib\n",
    "\n",
    "# Verify GPU availability\n",
    "import torch\n",
    "print(f\"GPU Available: {torch.cuda.is_available()}\")\n",
    "if torch.cuda.is_available():\n",
    "    print(f\"GPU Device: {torch.cuda.get_device_name(0)}\")\n",
    "\n",
    "print(\"✅ Dependencies installed and GPU ready!\")"
   ]
  },
  {
   "cell_type": "markdown",
   "id": "77095dd8",
   "metadata": {},
   "source": [
    "## 3️⃣ Hyperparameter Optimization (Bayesian Search)"
   ]
  },
  {
   "cell_type": "code",
   "execution_count": null,
   "id": "aec516fc",
   "metadata": {},
   "outputs": [],
   "source": [
    "# Run hyperparameter optimization\n",
    "import sys\n",
    "import json\n",
    "import os\n",
    "sys.path.append('.')\n",
    "\n",
    "from src.models.hyperparam_optimizer import run_optimization\n",
    "from src.data.data_loader import load_historical_data\n",
    "from src.environment.historical_env import HistoricalTradingEnv\n",
    "\n",
    "# Load your exported data\n",
    "try:\n",
    "    data = load_historical_data('data/raw/eurusd_1y.csv')\n",
    "    print(f\"✅ Loaded {len(data)} data points\")\n",
    "except Exception as e:\n",
    "    print(f\"❌ Data loading failed: {e}\")\n",
    "    # Fallback to sample data generation\n",
    "    import pandas as pd\n",
    "    import numpy as np\n",
    "    dates = pd.date_range('2023-01-01', periods=1000, freq='H')\n",
    "    data = pd.DataFrame({\n",
    "        'timestamp': dates,\n",
    "        'open': 1.07 + np.random.randn(1000) * 0.01,\n",
    "        'high': 1.072 + np.random.randn(1000) * 0.01,\n",
    "        'low': 1.068 + np.random.randn(1000) * 0.01,\n",
    "        'close': 1.071 + np.random.randn(1000) * 0.01,\n",
    "        'volume': np.random.randint(1000, 2000, 1000)\n",
    "    })\n",
    "    print(f\"✅ Generated {len(data)} sample data points\")\n",
    "\n",
    "# Create environment\n",
    "env = HistoricalTradingEnv(data, asset='EURUSD')\n",
    "\n",
    "# Run optimization (adjust n_trials as needed)\n",
    "n_trials = 50  # Increase for better results (100-200 recommended)\n",
    "print(f\"🚀 Starting hyperparameter optimization with {n_trials} trials...\")\n",
    "\n",
    "best_params, study = run_optimization(env, n_trials=n_trials)\n",
    "\n",
    "# Save results\n",
    "os.makedirs('data/models', exist_ok=True)\n",
    "with open('data/models/best_hyperparams.json', 'w') as f:\n",
    "    json.dump(best_params, f, indent=4)\n",
    "\n",
    "# Save to Google Drive\n",
    "!cp data/models/best_hyperparams.json /content/drive/MyDrive/\n",
    "\n",
    "print(f\"✅ Optimization complete! Best params: {best_params}\")\n",
    "print(\"📁 Results saved to Google Drive\")"
   ]
  },
  {
   "cell_type": "markdown",
   "id": "aa1c517e",
   "metadata": {},
   "source": [
    "## 4️⃣ Train PPO Model with Optimized Parameters"
   ]
  },
  {
   "cell_type": "code",
   "execution_count": null,
   "id": "73c0f775",
   "metadata": {},
   "outputs": [],
   "source": [
    "# Load optimized hyperparameters\n",
    "with open('data/models/best_hyperparams.json', 'r') as f:\n",
    "    best_params = json.load(f)\n",
    "\n",
    "print(f\"🔧 Using optimized parameters: {best_params}\")\n",
    "\n",
    "# Import and setup model\n",
    "from src.models.ppo_model import train_model\n",
    "from src.environment.historical_env import HistoricalTradingEnv\n",
    "\n",
    "# Create environment with optimized params\n",
    "env = HistoricalTradingEnv(data, asset='EURUSD')\n",
    "\n",
    "# Training configuration\n",
    "total_timesteps = 500000  # Adjust based on your needs\n",
    "model_save_path = 'data/models/optimized_ppo_model'\n",
    "\n",
    "print(f\"🚀 Training PPO model for {total_timesteps:,} timesteps...\")\n",
    "\n",
    "# Train the model\n",
    "model = train_model(env, total_timesteps=total_timesteps, **best_params)\n",
    "\n",
    "# Save the trained model\n",
    "model.save(model_save_path)\n",
    "print(f\"✅ Model saved to {model_save_path}\")\n",
    "\n",
    "# Copy to Google Drive\n",
    "!cp -r data/models/ /content/drive/MyDrive/jordan_models/\n",
    "print(\"📁 Model copied to Google Drive\")"
   ]
  },
  {
   "cell_type": "markdown",
   "id": "b7c89069",
   "metadata": {},
   "source": [
    "## 5️⃣ Evaluate Model Performance"
   ]
  },
  {
   "cell_type": "code",
   "execution_count": null,
   "id": "d78d27c4",
   "metadata": {},
   "outputs": [],
   "source": [
    "# Load and evaluate the trained model\n",
    "from stable_baselines3 import PPO\n",
    "import matplotlib.pyplot as plt\n",
    "\n",
    "# Load model\n",
    "model = PPO.load(model_save_path)\n",
    "\n",
    "# Create evaluation environment\n",
    "eval_env = HistoricalTradingEnv(data, asset='EURUSD')\n",
    "\n",
    "# Run evaluation\n",
    "obs, info = eval_env.reset()\n",
    "total_reward = 0\n",
    "trades = []\n",
    "\n",
    "for _ in range(len(data) - 1):\n",
    "    action, _ = model.predict(obs, deterministic=True)\n",
    "    obs, reward, terminated, truncated, info = eval_env.step(action)\n",
    "    total_reward += reward\n",
    "    \n",
    "    if action != 0:  # If a trade was made\n",
    "        trades.append({\n",
    "            'step': _,\n",
    "            'action': action,\n",
    "            'reward': reward,\n",
    "            'equity': info.get('equity', 0)\n",
    "        })\n",
    "\n",
    "print(f\"📊 Total Reward: {total_reward:.2f}\")\n",
    "print(f\"📊 Number of Trades: {len(trades)}\")\n",
    "print(f\"📊 Win Rate: {sum(1 for t in trades if t['reward'] > 0) / len(trades) * 100:.1f}%\" if trades else \"No trades made\")\n",
    "\n",
    "# Plot equity curve\n",
    "if trades:\n",
    "    equity_curve = [t['equity'] for t in trades]\n",
    "    plt.figure(figsize=(12, 6))\n",
    "    plt.plot(equity_curve)\n",
    "    plt.title('Model Equity Curve')\n",
    "    plt.xlabel('Trade Number')\n",
    "    plt.ylabel('Equity')\n",
    "    plt.grid(True)\n",
    "    plt.show()\n",
    "\n",
    "print(\"✅ Model evaluation complete!\")"
   ]
  },
  {
   "cell_type": "markdown",
   "id": "72ea0fcb",
   "metadata": {},
   "source": [
    "## 6️⃣ Download Results to Local Machine"
   ]
  },
  {
   "cell_type": "code",
   "execution_count": null,
   "id": "ebbd7578",
   "metadata": {},
   "outputs": [],
   "source": [
    "# Create results archive\n",
    "!zip -r jordan_training_results.zip data/models/ notebooks/\n",
    "\n",
    "# Download to local machine\n",
    "from google.colab import files\n",
    "files.download('jordan_training_results.zip')\n",
    "\n",
    "print(\"📁 Download the zip file to get your trained models and results!\")\n",
    "print(\"📁 Also available in Google Drive: /MyDrive/jordan_models/\")"
   ]
  }
 ],
 "metadata": {
  "language_info": {
   "name": "python"
  }
 },
 "nbformat": 4,
 "nbformat_minor": 5
}
